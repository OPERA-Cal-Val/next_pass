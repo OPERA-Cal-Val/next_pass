{
 "cells": [
  {
   "attachments": {},
   "cell_type": "markdown",
   "id": "924d71a0-75bd-44ff-9393-773f54cec7af",
   "metadata": {},
   "source": [
    "# Next overpass predictor\n",
    "\n",
    "## Background\n",
    "* Knowing the time of a satellite overpass (OP) at a precise location is crucial to plan and prepare disaster impact studies. \n",
    "The script below can be used to predict the overpasses of the Landsat 8 & 9 and Sentinel 1 & 2 satellites over a  selected location. For Landsat 8 this occurs every 16 days and for Sentinel 2A / 2B this occurs every 10 days.\n",
    "\n",
    "* The code calls the Python package 'next_pass' located at https://github.com/ehavazli/next_pass. The latter predicts the next overpass of the satellite of interest by scanning the relevant acquisition plans:\n",
    "\t- Landsat acquisition plans (json files) : https://landsat.usgs.gov/sites/default/files/landsat_acq/assets/json/cycles_full.json\n",
    "\t- Sentinel acquisition plans (KML files to import to Google Earth Pro) : https://sentinel.esa.int/web/sentinel/copernicus/sentinel-1/acquisition-plans  \n",
    "\n",
    "## Description\n",
    "\n",
    "All what a user needs to provide is the precise location for which he desires to identify the next overpasses. The location can be inputted as (latitude, longitude) or as the name of the city of interest. The script returns the next collect for Sentinel-1 and Sentinel-2 and the next passes, in ascending and descending directions separately, for Landsat-8 and Landsat-9:\n",
    "\n",
    "- Specify a location \n",
    "- Run find_next_overpass for Sentinel-1, Sentinel-2 and the Landsats (8&9) \n",
    "- Visualize each of the above predicted overpass \n",
    "\n",
    "The outputs of next_pass can be compared against overpasses of the site you are interested in using the ESA Orbital Prediction and Overpass Tool (OPOT) at https://evdc.esa.int/orbit/ \n"
   ]
  },
  {
   "cell_type": "markdown",
   "id": "3a463e75-447f-4aa9-99bc-3e5d977a59aa",
   "metadata": {},
   "source": [
    "## Getting started\n",
    "To run the overpass predictor with the given location, run all cells in the notebook starting with the \"Load packages\" cell."
   ]
  },
  {
   "cell_type": "markdown",
   "id": "b62dbae5-6831-4634-a722-74897b93cba3",
   "metadata": {},
   "source": [
    "### Load packages and functions"
   ]
  },
  {
   "cell_type": "code",
   "execution_count": null,
   "id": "ee013c33-33b6-49dd-a7b6-1936ef55e9bd",
   "metadata": {},
   "outputs": [],
   "source": [
    "import next_pass\n",
    "import folium\n",
    "import re  # Import regular expressions\n",
    "import random  # To generate random colors\n",
    "import geopandas as gpd\n",
    "from shapely.geometry import Point, Polygon, shape, box\n",
    "from geopy.geocoders import Nominatim"
   ]
  },
  {
   "cell_type": "code",
   "execution_count": null,
   "id": "0d2eedcf-c095-4572-87d3-eff8ed249209",
   "metadata": {},
   "outputs": [],
   "source": [
    "import colorsys\n",
    "\n",
    "# Style function for the bounding box GeoJSON layer\n",
    "def style_function(feature):\n",
    "    return {\n",
    "        'fillColor': '#808080',  # Gray fill color\n",
    "        'color': '#000000',       # Black border color\n",
    "        'weight': 4,              # Thicker border (increased thickness)\n",
    "        'fillOpacity': 0.3        # Fill opacity (adjust if needed)\n",
    "    }\n",
    "# Function to generate random hex color\n",
    "def random_color():\n",
    "    return \"#{:02x}{:02x}{:02x}\".format(random.randint(0, 255), random.randint(0, 255), random.randint(0, 255))\n",
    "\n",
    "# Function to print text with color in console (ANSI escape code)\n",
    "def print_colored_text(text, color):\n",
    "    # Escape sequence for colored text\n",
    "    print(f\"\\033[38;2;{color[0]};{color[1]};{color[2]}m{text}\\033[39m\")\n",
    "\n",
    "# \n",
    "def hsl_distinct_colors(n):\n",
    "    colors = []\n",
    "    for i in range(n):\n",
    "        # Generate colors with different hues\n",
    "        hue = i / float(n)  # Hue ranges from 0 to 1\n",
    "        color = colorsys.hsv_to_rgb(hue, 1.0, 1.0)  # Convert HSL to RGB\n",
    "        # Convert from RGB (0-1) to hex (#RRGGBB)\n",
    "        rgb = [int(c * 255) for c in color]\n",
    "        hex_color = \"#{:02x}{:02x}{:02x}\".format(*rgb)\n",
    "        colors.append(hex_color)\n",
    "    return colors\n",
    "\n",
    "def spread_rgb_colors(n):\n",
    "    colors = []\n",
    "    step = 255 // n  # Divide the color space into n parts\n",
    "    for i in range(n):\n",
    "        # Spread out the color values across the RGB spectrum\n",
    "        r = (i * step) % 256\n",
    "        g = ((i + 1) * step) % 256\n",
    "        b = ((i + 2) * step) % 256\n",
    "        hex_color = \"#{:02x}{:02x}{:02x}\".format(r, g, b)\n",
    "        colors.append(hex_color)\n",
    "    return colors\n",
    "\n",
    "def hsl_distinct_colors_improved(num_colors):\n",
    "    colors = []\n",
    "    \n",
    "    for i in range(num_colors):\n",
    "        # Set Hue (H) to a random value, excluding extremes like 0° (red) and 60° (yellow)\n",
    "        hue = (i * 360 / num_colors) % 360\n",
    "        \n",
    "        # Set Saturation (S) to a high value (e.g., 70%) for vivid colors\n",
    "        saturation = random.randint(60, 80)  # Avoid dull colors\n",
    "        \n",
    "        # Set Lightness (L) to a lower value to avoid bright, light colors like yellow (range 30-50%)\n",
    "        lightness = random.randint(30, 50)  # Darker or neutral colors\n",
    "\n",
    "        # Convert HSL to RGB using the colorsys library\n",
    "        r, g, b = colorsys.hls_to_rgb(hue / 360, lightness / 100, saturation / 100)\n",
    "\n",
    "        # Convert RGB to hex format (RGB values are in [0, 1], so multiply by 255)\n",
    "        hex_color = \"#{:02x}{:02x}{:02x}\".format(int(r * 255), int(g * 255), int(b * 255))\n",
    "        colors.append(hex_color)\n",
    "    \n",
    "    return colors"
   ]
  },
  {
   "cell_type": "markdown",
   "id": "30c73e94-54be-4c2d-ab83-0b7fe432da99",
   "metadata": {},
   "source": [
    "### Specify location\n",
    "Start with selecting the location by  precising the latitude/longitude. The below tool helps to determine the coordinates of major cities."
   ]
  },
  {
   "cell_type": "code",
   "execution_count": null,
   "id": "7b422dfc-1b41-4497-a93f-3971332d315e",
   "metadata": {},
   "outputs": [],
   "source": [
    "# Select a city \n",
    "city_name = \"La Crescenta, CA\"\n",
    "\n",
    "# Create a geolocator object\n",
    "geolocator = Nominatim(user_agent=\"your_app_name\") \n",
    "\n",
    "# Get the location information for a city\n",
    "location = geolocator.geocode(city_name)\n",
    "\n",
    "# Print the latitude and longitude\n",
    "print(\"** \",city_name, \" coordinates = \" );\n",
    "print(\"Latitude:\", location.latitude)\n",
    "print(\"Longitude:\", location.longitude)"
   ]
  },
  {
   "cell_type": "code",
   "execution_count": null,
   "id": "3fd809f4-b3b7-4b22-9628-ec0cf677aca7",
   "metadata": {},
   "outputs": [],
   "source": [
    "# Locations (here La Crescenta). If overpasses are sought for 1 location, just set min and max params to the same value\n",
    "lat_S, lat_N, lon_W, lon_E = 34.230429, 34.230429, -118.2350733, -118.2350733"
   ]
  },
  {
   "cell_type": "code",
   "execution_count": null,
   "id": "c49a6cf1-6f63-40dd-87ac-c9a23adeffb7",
   "metadata": {},
   "outputs": [],
   "source": [
    "# Users can provide SNEW coordinates to define a bounding box\n",
    "lat_S, lat_N, lon_W, lon_E = 32, 35, -120, -116"
   ]
  },
  {
   "cell_type": "markdown",
   "id": "4f7867f1-e025-43eb-8357-6d57681d93b7",
   "metadata": {},
   "source": [
    "### Specify satellites of interest \n",
    "For now, the tool operates for Sentinel 1A and 2A and Landsat 8 and 9."
   ]
  },
  {
   "cell_type": "code",
   "execution_count": null,
   "id": "10a15937-1d57-4772-8fff-eb277b23f8fe",
   "metadata": {},
   "outputs": [],
   "source": [
    "# Satellites\n",
    "sat1 = \"sentinel-1\"\n",
    "sat2 = \"sentinel-2\"\n",
    "sat3 = \"landsat\""
   ]
  },
  {
   "cell_type": "markdown",
   "id": "b2c7370e-cbfd-4eab-90ea-f2fe2a7d736c",
   "metadata": {},
   "source": [
    "### Run next_pass\n",
    "use next_pass to predict the overpasses of the above satellites over the selected location"
   ]
  },
  {
   "cell_type": "code",
   "execution_count": null,
   "id": "75208e53-ee5c-434d-99ba-e23759121379",
   "metadata": {},
   "outputs": [],
   "source": [
    "print(\"*** \",sat1,\" ***\")\n",
    "result1 = next_pass.find_next_overpass(lat_S,lat_N,lon_W,lon_E,sat1)\n",
    "# result1 is a dictionary \n",
    "s1_next_collect_info = result1.get(\"next_collect_info\", \"No collection info available\")\n",
    "s1_next_collect_geometry = result1.get(\"next_collect_geometry\", None)\n",
    "print(s1_next_collect_info)"
   ]
  },
  {
   "cell_type": "code",
   "execution_count": null,
   "id": "2ab6c21e-598b-4f0e-b593-4d89ecf167b9",
   "metadata": {},
   "outputs": [],
   "source": [
    "print(\"*** \",sat2,\" ***\")\n",
    "result2 = next_pass.find_next_overpass(lat_S,lat_N,lon_W,lon_E,sat2)\n",
    "s2_next_collect_info = result2.get(\"next_collect_info\", \"No collection info available\")\n",
    "s2_next_collect_geometry = result2.get(\"next_collect_geometry\", None)\n",
    "print(s2_next_collect_info)"
   ]
  },
  {
   "cell_type": "code",
   "execution_count": null,
   "id": "1597f45a-34e0-4026-9286-eaa4b6af52bd",
   "metadata": {},
   "outputs": [],
   "source": [
    "print(\"*** \",sat3,\" ***\")\n",
    "#print(next_pass.find_next_overpass(lat, lon, sat3))"
   ]
  },
  {
   "cell_type": "markdown",
   "id": "e887dd39-d863-4606-9c53-ab02ed4b582c",
   "metadata": {},
   "source": [
    "### Overpasses Vizualisation (in progress ...)  \n",
    "The below vizualization tool shows the path of a selected satellite at the predicted date/time"
   ]
  },
  {
   "cell_type": "code",
   "execution_count": null,
   "id": "315d8f13-2f11-4110-a315-e7766ffa2b33",
   "metadata": {},
   "outputs": [],
   "source": [
    "# Start by choosing what satellite to visualize \n",
    "sat_to_visualize = 'Sentinel-1';\n",
    "\n",
    "if lat_S == lat_N and lon_W == lon_E:\n",
    "    # Create the point\n",
    "    point = Point(lon_E, lat_N)\n",
    "\n",
    "    # Create a Folium map centered at the point location\n",
    "    m = folium.Map(location=[point.y, point.x], zoom_start=4)\n",
    "\n",
    "    # Add a cross-shaped marker to the map\n",
    "    folium.Marker(\n",
    "        location=[point.y, point.x],  # Latitude, Longitude\n",
    "        icon=folium.Icon(icon='glyphicon-remove', icon_color='red', prefix='glyphicon')  # Cross symbol with red color\n",
    "    ).add_to(m)\n",
    "else:\n",
    "    # Create the bounding box as a polygon\n",
    "    bounding_box = box(lon_W, lat_S, lon_E, lat_N)\n",
    "\n",
    "    # Convert to a GeoDataFrame\n",
    "    gdf = gpd.GeoDataFrame({'geometry': [bounding_box]}, crs=\"EPSG:4326\")  # WGS 84 CRS\n",
    "\n",
    "    # Create a Folium map centered at the bounding box centroid\n",
    "    m = folium.Map(location=[bounding_box.centroid.y, bounding_box.centroid.x], zoom_start=4)\n",
    "    # Add the bounding box as a GeoJSON layer\n",
    "    folium.GeoJson(gdf.to_json(), name=\"Bounding Box\", style_function=style_function).add_to(m)\n",
    "\n",
    "if sat_to_visualize == 'Sentinel-1':\n",
    "    vi_next_collect_info = s1_next_collect_info\n",
    "    vi_next_collect_geometry = s1_next_collect_geometry\n",
    "elif sat_to_visualize == 'Sentinel-2':\n",
    "    vi_next_collect_info = s2_next_collect_info\n",
    "    vi_next_collect_geometry = s2_next_collect_geometry\n",
    "else:\n",
    "    vi_next_collect_info = l8_next_collect_info\n",
    "    vi_next_collect_geometry = l8_next_collect_geometry\n",
    "        \n",
    "print('\\n ** Visualizing overpasses for ',sat_to_visualize,' ** \\n')\n",
    "# Add each Polygon in next_collect_geometry\n",
    "lines = vi_next_collect_info.split(\"\\n\")\n",
    "# Clean lines by keeping only those that contain numbers (1-9)\n",
    "cleaned_info = [line for line in lines if re.search(r'[1-9]', line)]  # Line must contain digits (1-9)\n",
    "vi_next_collect_info_list = cleaned_info  # Now it's a list of strings (one per row in the table)\n",
    "num_polygons = len(vi_next_collect_geometry)\n",
    "num_info_lines = len(vi_next_collect_info_list)\n",
    "#print(num_polygons)\n",
    "#print(num_info_lines)\n",
    "\n",
    "# Use the HSL distinct colors function\n",
    "distinct_colors_list_1 = spread_rgb_colors(num_polygons)\n",
    "distinct_colors_list_2 = hsl_distinct_colors(num_polygons)\n",
    "distinct_colors_list_3 = hsl_distinct_colors_improved(num_polygons)\n",
    "\n",
    "if vi_next_collect_geometry:\n",
    "    for i, (polygon, info) in enumerate(zip(vi_next_collect_geometry, vi_next_collect_info_list), start=1):\n",
    "        if isinstance(polygon, Polygon):  # Ensure it's a valid Polygon\n",
    "            # Get a distinct color for each polygon\n",
    "            color = distinct_colors_list_3[i - 1]\n",
    "\n",
    "            # Print the info with corresponding color in the console\n",
    "            print_colored_text(f\"{info}\", tuple(int(color[i:i+2], 16) for i in (1, 3, 5)))\n",
    "\n",
    "            \n",
    "            geojson_data = gpd.GeoSeries([polygon]).__geo_interface__\n",
    "            folium.GeoJson(\n",
    "                geojson_data, \n",
    "                name=\"Next Collect Area\",\n",
    "                style_function=lambda x, color=color: {\"color\": color, \"weight\": 2, \"fillOpacity\": 0.3},\n",
    "                popup=folium.Popup(f\"Polygon: {info}\", max_width=300)  # Display corresponding info line\n",
    "            ).add_to(m)\n",
    "\n",
    "print('')\n",
    "# Display the map and save to file\n",
    "m.save(\"bounding_box_map.html\")\n",
    "m  # If using Jupyter Notebook"
   ]
  }
 ],
 "metadata": {
  "kernelspec": {
   "display_name": "Python 3 (ipykernel)",
   "language": "python",
   "name": "python3"
  },
  "language_info": {
   "codemirror_mode": {
    "name": "ipython",
    "version": 3
   },
   "file_extension": ".py",
   "mimetype": "text/x-python",
   "name": "python",
   "nbconvert_exporter": "python",
   "pygments_lexer": "ipython3",
   "version": "3.12.7"
  }
 },
 "nbformat": 4,
 "nbformat_minor": 5
}
