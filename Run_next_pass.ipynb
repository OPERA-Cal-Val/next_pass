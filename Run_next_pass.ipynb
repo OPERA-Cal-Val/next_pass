{
 "cells": [
  {
   "attachments": {},
   "cell_type": "markdown",
   "id": "924d71a0-75bd-44ff-9393-773f54cec7af",
   "metadata": {},
   "source": [
    "# Next overpass predictor\n",
    "\n",
    "## Background\n",
    "* Knowing the time of a satellite overpass (OP) at a precise location is crucial to plan and prepare disaster impact studies. \n",
    "The script below can be used to predict the overpasses of the Landsat 8 & 9 and Sentinel 1 & 2 satellites over a  selected location. For Landsat 8 this occurs every 16 days and for Sentinel 2A / 2B this occurs every 10 days.\n",
    "\n",
    "* The code calls the Python package 'next_pass' located at https://github.com/ehavazli/next_pass. The latter predicts the next overpass of the satellite of interest by scanning the relevant acquisition plans:\n",
    "\t- Landsat acquisition plans (json files) : https://landsat.usgs.gov/sites/default/files/landsat_acq/assets/json/cycles_full.json\n",
    "\t- Sentinel acquisition plans (KML files to import to Google Earth Pro) : https://sentinel.esa.int/web/sentinel/copernicus/sentinel-1/acquisition-plans  \n",
    "\n",
    "## Description\n",
    "\n",
    "All what a user needs to provide is the precise location for which he desires to identify the next overpasses. The location can be inputted as (latitude, longitude) or as the name of the city of interest. The script returns the next collect for Sentinel-1 and Sentinel-2 and the next passes, in ascending and descending directions separately, for Landsat-8 and Landsat-9:\n",
    "\n",
    "- Specify a location \n",
    "- Run find_next_overpass for Sentinel-1, Sentinel-2 and the Landsats (8&9) \n",
    "- Visualize each of the above predicted overpass \n",
    "\n",
    "The outputs of next_pass can be compared against overpasses of the site you are interested in using the ESA Orbital Prediction and Overpass Tool (OPOT) at https://evdc.esa.int/orbit/ \n"
   ]
  },
  {
   "cell_type": "markdown",
   "id": "3a463e75-447f-4aa9-99bc-3e5d977a59aa",
   "metadata": {},
   "source": [
    "## Getting started\n",
    "To run the overpass predictor with the given location, run all cells in the notebook starting with the \"Load packages\" cell."
   ]
  },
  {
   "cell_type": "markdown",
   "id": "b62dbae5-6831-4634-a722-74897b93cba3",
   "metadata": {},
   "source": [
    "### Load packages"
   ]
  },
  {
   "cell_type": "code",
   "execution_count": null,
   "id": "ee013c33-33b6-49dd-a7b6-1936ef55e9bd",
   "metadata": {},
   "outputs": [],
   "source": [
    "import next_pass\n",
    "from geopy.geocoders import Nominatim"
   ]
  },
  {
   "cell_type": "markdown",
   "id": "30c73e94-54be-4c2d-ab83-0b7fe432da99",
   "metadata": {},
   "source": [
    "### Specify location\n",
    "Start with selecting the location by  precising the latitude/longitude. The below tool helps to determine the coordinates of major cities."
   ]
  },
  {
   "cell_type": "code",
   "execution_count": null,
   "id": "7b422dfc-1b41-4497-a93f-3971332d315e",
   "metadata": {},
   "outputs": [],
   "source": [
    "# Select a city \n",
    "city_name = \"La Crescenta, CA\"\n",
    "\n",
    "# Create a geolocator object\n",
    "geolocator = Nominatim(user_agent=\"your_app_name\") \n",
    "\n",
    "# Get the location information for a city\n",
    "location = geolocator.geocode(city_name)\n",
    "\n",
    "# Print the latitude and longitude\n",
    "print(\"** \",city_name, \" coordinates = \" );\n",
    "print(\"Latitude:\", location.latitude)\n",
    "print(\"Longitude:\", location.longitude)"
   ]
  },
  {
   "cell_type": "code",
   "execution_count": null,
   "id": "3fd809f4-b3b7-4b22-9628-ec0cf677aca7",
   "metadata": {},
   "outputs": [],
   "source": [
    "# Locations (here La Crescenta)\n",
    "lat = 34.230429\n",
    "lon = -118.2350733"
   ]
  },
  {
   "cell_type": "markdown",
   "id": "4f7867f1-e025-43eb-8357-6d57681d93b7",
   "metadata": {},
   "source": [
    "### Specify satellites of interest \n",
    "For now, the tool operates for Sentinel 1A and 2A and Landsat 8 and 9."
   ]
  },
  {
   "cell_type": "code",
   "execution_count": null,
   "id": "10a15937-1d57-4772-8fff-eb277b23f8fe",
   "metadata": {},
   "outputs": [],
   "source": [
    "# Satellites\n",
    "sat1 = \"sentinel-1\"\n",
    "sat2 = \"sentinel-2\"\n",
    "sat3 = \"landsat\""
   ]
  },
  {
   "cell_type": "markdown",
   "id": "b2c7370e-cbfd-4eab-90ea-f2fe2a7d736c",
   "metadata": {},
   "source": [
    "### Run next_pass\n",
    "use next_pass to predict the overpasses of the above satellites over the selected location"
   ]
  },
  {
   "cell_type": "code",
   "execution_count": null,
   "id": "75208e53-ee5c-434d-99ba-e23759121379",
   "metadata": {},
   "outputs": [],
   "source": [
    "print(\"*** \",sat1,\" ***\")\n",
    "print(next_pass.find_next_overpass(lat, lon, sat1))"
   ]
  },
  {
   "cell_type": "code",
   "execution_count": null,
   "id": "2ab6c21e-598b-4f0e-b593-4d89ecf167b9",
   "metadata": {},
   "outputs": [],
   "source": [
    "print(\"*** \",sat2,\" ***\")\n",
    "print(next_pass.find_next_overpass(lat, lon, sat2))"
   ]
  },
  {
   "cell_type": "code",
   "execution_count": null,
   "id": "1597f45a-34e0-4026-9286-eaa4b6af52bd",
   "metadata": {},
   "outputs": [],
   "source": [
    "print(\"*** \",sat3,\" ***\")\n",
    "print(next_pass.find_next_overpass(lat, lon, sat3))"
   ]
  },
  {
   "cell_type": "markdown",
   "id": "e887dd39-d863-4606-9c53-ab02ed4b582c",
   "metadata": {},
   "source": [
    "### Overpasses Vizualisation (in progress ...)  \n",
    "The below vizualization tool shows the path of a selected satellite at the predicted date/time"
   ]
  },
  {
   "cell_type": "code",
   "execution_count": null,
   "id": "315d8f13-2f11-4110-a315-e7766ffa2b33",
   "metadata": {},
   "outputs": [],
   "source": [
    "# Satellite TLE 1/23/2025\n",
    "# Landsat 8\n",
    "L8_line1 = \"1 39084U 13008A   25023.56604824  .00001102  00000-0  25450-3 0  9996\"\n",
    "L8_line2 = \"2 39084  98.2046  96.2244 0001173  97.4673 262.6659 14.57134767623686\"\n",
    "# Landsat 9\n",
    "L9_line1 = \"1 49260U 21088A   25023.18851768  .00001080  00000-0  24960-3 0  9999\"\n",
    "L9_line2 = \"2 49260  98.2077  95.8900 0001166  86.0042 274.1289 14.57119979176731\"\n",
    "# Sentinel 1\n",
    "\n",
    "\n",
    "# Initialize satellite object\n",
    "satellite = Satrec.twoline2rv(L9_line1, L9_line2)\n",
    "\n",
    "# Time range for prediction\n",
    "start_time = datetime.now() + timedelta(days=6)\n",
    "print(start_time)\n",
    "end_time = start_time + timedelta(hours=12)\n",
    "time_step = timedelta(minutes=1)\n",
    "\n",
    "# Prepare ground track\n",
    "lats, lons = [], []\n",
    "current_time = start_time\n",
    "while current_time <= end_time:\n",
    "    jd, fr = jday(current_time.year, current_time.month, current_time.day,\n",
    "                  current_time.hour, current_time.minute, current_time.second)\n",
    "    e, r, v = satellite.sgp4(jd, fr)\n",
    "    if e == 0:  # Propagate without error\n",
    "        x, y, z = r\n",
    "        r_norm = np.linalg.norm(r)\n",
    "\n",
    "        # here two ways to calculate lat and lon either from np or using \n",
    "        lat = np.degrees(np.arcsin(z / r_norm))\n",
    "        lon = np.degrees(np.arctan2(y, x))\n",
    "        #lat, lon, alt = ecef_to_llh(x, y, z)\n",
    "        lats.append(lat)\n",
    "        lons.append(lon)\n",
    "    current_time += time_step\n",
    "\n",
    "lons = [lon if lon <= 180 else lon - 360 for lon in lons]\n",
    "\n",
    "# Plot with high-resolution background\n",
    "fig, ax = plt.subplots(figsize=(12, 8))\n",
    "m = Basemap(projection='mill', resolution='l', lat_0=0, lon_0=0)\n",
    "\n",
    "# Add high-resolution Earth background\n",
    "m.bluemarble()  # Use m.shadedrelief() or m.etopo() for other styles\n",
    "\n",
    "# Draw coastlines and grid lines for reference\n",
    "m.drawcoastlines(color=\"white\", linewidth=0.5)\n",
    "m.drawparallels(np.arange(-90, 91, 30), labels=[1, 0, 0, 0], color=\"white\")\n",
    "m.drawmeridians(np.arange(-180, 181, 60), labels=[0, 0, 0, 1], color=\"white\")\n",
    "\n",
    "# Convert satellite lat/lon to map coordinates\n",
    "x, y = m(lons, lats)\n",
    "m.plot(x, y, linestyle='-', linewidth=2, color='red', label='Satellite Ground Track')\n",
    "\n",
    "plt.title(\"Satellite Ground Track with High-Resolution Background\")\n",
    "plt.legend()\n",
    "plt.show()"
   ]
  },
  {
   "cell_type": "code",
   "execution_count": null,
   "id": "a3cdb3db-1bc1-4863-be9e-18f9ab9d616a",
   "metadata": {},
   "outputs": [],
   "source": [
    "import folium\n",
    "from IPython.display import display, clear_output\n",
    "import time\n",
    "\n",
    "# Define the initial map location\n",
    "map_center = [37.7749, -122.4194]  # San Francisco coordinates\n",
    "mymap = folium.Map(location=map_center, zoom_start=13)\n",
    "\n",
    "# Initial coordinates of the moving point\n",
    "locations = [\n",
    "    [37.7749, -122.4194],  # Starting point\n",
    "    [37.7760, -122.4180],\n",
    "    [37.7770, -122.4170],\n",
    "    [37.7780, -122.4160],  # Moving point\n",
    "    [37.7790, -122.4150],\n",
    "]\n",
    "\n",
    "# Function to update the map\n",
    "def update_map(location):\n",
    "    global mymap  # Use the global map object\n",
    "    # Clear previous output\n",
    "    clear_output(wait=True)\n",
    "    # Add marker to the map\n",
    "    folium.Marker(location).add_to(mymap)\n",
    "    # Display the map\n",
    "    display(mymap)\n",
    "\n",
    "# Loop through the locations and update the map\n",
    "for loc in locations:\n",
    "    update_map(loc)\n",
    "    time.sleep(1)  # Pause for 1 second\n"
   ]
  },
  {
   "cell_type": "code",
   "execution_count": null,
   "id": "8d114729-4e98-4ab1-8c9b-602a10a2bc4d",
   "metadata": {},
   "outputs": [],
   "source": []
  }
 ],
 "metadata": {
  "kernelspec": {
   "display_name": "Python 3 (ipykernel)",
   "language": "python",
   "name": "python3"
  },
  "language_info": {
   "codemirror_mode": {
    "name": "ipython",
    "version": 3
   },
   "file_extension": ".py",
   "mimetype": "text/x-python",
   "name": "python",
   "nbconvert_exporter": "python",
   "pygments_lexer": "ipython3",
   "version": "3.13.1"
  }
 },
 "nbformat": 4,
 "nbformat_minor": 5
}
