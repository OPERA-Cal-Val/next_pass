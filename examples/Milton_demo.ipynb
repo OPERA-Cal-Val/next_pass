{
 "cells": [
  {
   "attachments": {},
   "cell_type": "markdown",
   "id": "924d71a0-75bd-44ff-9393-773f54cec7af",
   "metadata": {},
   "source": [
    "# Example of next_pass application to Hurricane Milton, Florida, October 2024\n",
    "\n",
    "## Background\n",
    "* Knowing the time of a satellite overpass (OP) at a precise location is crucial to plan and prepare disaster impact studies. \n",
    "The script below can be used to predict the overpasses of the Landsat 8 & 9 and Sentinel 1 & 2 satellites over a  selected location. For Landsat 8 this occurs every 16 days and for Sentinel 2A / 2B this occurs every 10 days.\n",
    "\n",
    "* The code calls the Python package 'next_pass' located at https://github.com/ehavazli/next_pass. The latter predicts the next overpass of the satellite of interest by scanning the relevant acquisition plans:\n",
    "\t- Landsat acquisition plans (json files) : https://landsat.usgs.gov/sites/default/files/landsat_acq/assets/json/cycles_full.json\n",
    "\t- Sentinel acquisition plans (KML files to import to Google Earth Pro) : https://sentinel.esa.int/web/sentinel/copernicus/sentinel-1/acquisition-plans\n",
    "      \n",
    "\n",
    "* This specific notebook showcases the application of the next_pass tool to hurricane Milton in Florida between October 3rd and October 11th, 2024 (https://maps.disasters.nasa.gov/arcgis/apps/MinimalGallery/index.html?appid=081982abfd5f4732b45df6db9f6de35e). The user can set the location using the \"MiltonHurricaneFlorida\" kml file \n",
    "\n",
    "## Tool Description\n",
    "\n",
    "All what a user needs to provide is the precise location for which he desires to identify the next overpasses. The location can be input as a single point(latitude, longitude), or bounding box (SNEW coordinates) or a location file path (.kml). The script returns the next collect for Sentinel-1 and Sentinel-2 and the next passes, in ascending and descending directions separately, for Landsat-8 and Landsat-9.\n",
    "\n",
    "- Specify a location \n",
    "- Run find_next_overpass for Sentinel 1 & 2 and the Landsats 8 & 9 \n",
    "- Visualize the predicted overpasses\n",
    "\n",
    "The outputs of next_pass can be compared against overpasses of the site you are interested in using the ESA Orbital Prediction and Overpass Tool (OPOT) at https://evdc.esa.int/orbit/ \n"
   ]
  },
  {
   "cell_type": "markdown",
   "id": "3a463e75-447f-4aa9-99bc-3e5d977a59aa",
   "metadata": {},
   "source": [
    "## Getting started\n",
    "To run the overpass predictor with the given location, run all cells in the notebook starting with the \"Load packages\" cell."
   ]
  },
  {
   "cell_type": "markdown",
   "id": "b62dbae5-6831-4634-a722-74897b93cba3",
   "metadata": {},
   "source": [
    "### Load packages and functions"
   ]
  },
  {
   "cell_type": "code",
   "execution_count": null,
   "id": "ee013c33-33b6-49dd-a7b6-1936ef55e9bd",
   "metadata": {},
   "outputs": [],
   "source": [
    "import os\n",
    "import sys\n",
    "import pandas as pd\n",
    "import geopandas as gpd\n",
    "from argparse import Namespace\n",
    "# Add the parent directory to Python's path\n",
    "parent_dir = os.path.abspath(os.path.join(os.getcwd(), '..'))\n",
    "if parent_dir not in sys.path:\n",
    "    sys.path.insert(0, parent_dir)\n",
    "import next_pass\n",
    "import opera_products\n",
    "import plot_maps\n",
    "import utils\n",
    "from utils import bbox_type, create_polygon_from_kml\n",
    "from shapely.geometry import box"
   ]
  },
  {
   "cell_type": "markdown",
   "id": "30c73e94-54be-4c2d-ab83-0b7fe432da99",
   "metadata": {},
   "source": [
    "# Specify location\n",
    "Start with selecting the location by  specifying the latitude/longitude (single point or bounding box) or pointing the script to the path of a location file (.kml). Please set location_file_path to '' if using the single point or boundng box options. "
   ]
  },
  {
   "cell_type": "code",
   "execution_count": null,
   "id": "5784914a-c997-4920-aaef-97ba570c2d4b",
   "metadata": {},
   "outputs": [],
   "source": [
    "# Bounding box covering the region impacted by Hurricane Milton\n",
    "lat_S, lat_N, lon_W, lon_E= (24.5, 32.5, -83.5,-79.5)"
   ]
  },
  {
   "cell_type": "markdown",
   "id": "b2c7370e-cbfd-4eab-90ea-f2fe2a7d736c",
   "metadata": {},
   "source": [
    "### Run next_pass for Sentinel 1/2, and Landsat 8/9\n",
    "Use next_pass to predict the overpasses of the above satellites over the selected location. The cells below will call next_pass to predict overpasses for the selected satellites, then provide overpasses visualization in an interactive map."
   ]
  },
  {
   "cell_type": "code",
   "execution_count": null,
   "id": "3380111f-70ce-4399-a0a2-7d3914fbc33a",
   "metadata": {},
   "outputs": [],
   "source": [
    "# SENTINEL-1\n",
    "args = Namespace(bbox=(lat_S, lat_N, lon_W, lon_E),sat=\"sentinel-1\")\n",
    "result_s1 = next_pass.find_next_overpass(args)\n",
    "print(\"*** SENTINEL 1 ***\")\n",
    "print(result_s1.get(\"next_collect_info\", \"No collection info available\"))"
   ]
  },
  {
   "cell_type": "code",
   "execution_count": null,
   "id": "150e83f6-1a4a-4a56-8fd3-f5c06c178c61",
   "metadata": {},
   "outputs": [],
   "source": [
    "# SENTINEL-2\n",
    "args = Namespace(bbox=(lat_S, lat_N, lon_W, lon_E),sat=\"sentinel-2\")\n",
    "result_s2 = next_pass.find_next_overpass(args)\n",
    "print(\"*** SENTINEL 2 ***\")\n",
    "print(result_s2.get(\"next_collect_info\", \"No collection info available\"))"
   ]
  },
  {
   "cell_type": "code",
   "execution_count": null,
   "id": "4fbdd301-4e83-462f-9a28-47f23851745e",
   "metadata": {},
   "outputs": [],
   "source": [
    "# LANDSAT\n",
    "args = Namespace(bbox=(lat_S, lat_N, lon_W, lon_E),sat=\"landsat\")\n",
    "result_l = next_pass.find_next_overpass(args)\n",
    "print(\"*** LANDSAT 8/9 ***\")\n",
    "print(result_l.get(\"next_collect_info\", \"No collection info available\"))"
   ]
  },
  {
   "cell_type": "markdown",
   "id": "e887dd39-d863-4606-9c53-ab02ed4b582c",
   "metadata": {},
   "source": [
    "### Overpasses Vizualisation  \n",
    "The below vizualization tool shows the path of Sentinel 1/2 at the predicted date/time"
   ]
  },
  {
   "cell_type": "code",
   "execution_count": null,
   "id": "8258f8cb-52be-4da0-b8be-e9d69590f053",
   "metadata": {},
   "outputs": [],
   "source": [
    "m1 = plot_maps.make_overpasses_map(result_s1, result_s2, result_l, args.bbox)\n",
    "m1"
   ]
  },
  {
   "cell_type": "markdown",
   "id": "c6f2e25f-9536-499e-a60e-c9bcac90b800",
   "metadata": {},
   "source": [
    "# Available OPERA Products\n",
    "\n",
    "## Description\n",
    "* Here we will use Leafmap and Earthaccess to explore OPERA DSWx Products.\n",
    "* The Leafmap library provides a suite of tools for interactive mapping and visualization in Jupyter Notebooks. Leafmap version 0.30.0 and later offers tools specifically for accessing NASA Earthdata by building on the newly developed NASA Earthaccess library. Earthaccess provides streamlined access to NASA Earthdata and simplifies the authentication and querying process over previously developed approaches. \n",
    "* This section is designed to leverage tools within Earthaccess and Leafmap to facilitate easier access and visualization of OPERA data products for a user-specified area of interest (AOI). "
   ]
  },
  {
   "cell_type": "markdown",
   "id": "8bfc2314-500c-4e70-b628-86037f651da3",
   "metadata": {},
   "source": [
    "## Display most recent OPERA products at the selected Area of Interest (AOI)\n",
    "* The script will use the area of interest indicated above (to predict overpasses) to retreive the most recent OPERA products at the time the present notebook is run. We set event_date by default to today, but this can be changed to a prior date if the user is interested in a prior event. "
   ]
  },
  {
   "cell_type": "code",
   "execution_count": null,
   "id": "d83bc596-0599-4551-86a2-aaf8f0deec73",
   "metadata": {
    "scrolled": true
   },
   "outputs": [],
   "source": [
    "args = Namespace(bbox=(lat_S, lat_N, lon_W, lon_E),number_of_dates=5, event_date=\"today\")\n",
    "results_opera = opera_products.find_print_available_opera_products(args.bbox, args.number_of_dates, args.event_date)\n",
    "opera_products.export_opera_products(results_opera)"
   ]
  },
  {
   "cell_type": "code",
   "execution_count": null,
   "id": "51bd88da-1880-488c-99e7-51d67c051ea1",
   "metadata": {},
   "outputs": [],
   "source": [
    "m2 = plot_maps.make_opera_granule_map(results_opera, args.bbox)\n",
    "m2"
   ]
  },
  {
   "cell_type": "markdown",
   "id": "81023adb-5ed5-4980-b710-a6356c9a08b0",
   "metadata": {},
   "source": [
    "*******************************************************************"
   ]
  },
  {
   "cell_type": "markdown",
   "id": "00d2c1f7-0b35-4ad7-9c8a-9276a2341821",
   "metadata": {},
   "source": [
    "## Searching and Visualizing NASA OPERA Data Products Interactively \n",
    "* Another option is available through an Earthdata login. You can register for an account at urs.earthdata.nasa.gov. \n",
    "* For further information please refer to https://leafmap.org/notebooks/101_nasa_opera/\n",
    "* Run the Jupyter Notebook until this cell, before using the option below"
   ]
  },
  {
   "cell_type": "code",
   "execution_count": null,
   "id": "a00c1c42-7c18-4464-9f64-d4793bf01ef6",
   "metadata": {},
   "outputs": [],
   "source": [
    "import leafmap\n",
    "leafmap.nasa_data_login()"
   ]
  },
  {
   "cell_type": "markdown",
   "id": "42e9201b-8175-4cb8-a269-be535b492596",
   "metadata": {},
   "source": [
    "The map is zoomed in on the defined AOI. Select a dataset from the Short Name dropdown list. Click the \"Search\" button to load the available datasets for the region. The footprints of the datasets will be displayed on the map. Click on a footprint to display the metadata of the dataset."
   ]
  },
  {
   "cell_type": "code",
   "execution_count": null,
   "id": "f0f50e1a-9ce3-43e8-b1a5-9de7381c1816",
   "metadata": {},
   "outputs": [],
   "source": [
    "bbox = utils.bbox_type(args.bbox)\n",
    "if isinstance(args.bbox, str):\n",
    "    AOI_polygon = create_polygon_from_kml(args.bbox)\n",
    "    AOI = AOI_polygon.bounds\n",
    "else:\n",
    "    lat_min, lat_max, lon_min, lon_max = args.bbox\n",
    "    AOI = (lon_min, lat_min, lon_max, lat_max)\n",
    "    AOI_polygon = box(lon_min, lat_min, lon_max, lat_max)\n",
    "\n",
    "gdf = gpd.GeoDataFrame(geometry=[AOI_polygon], crs=\"EPSG:4326\")\n",
    "c_lat = (AOI[1] + AOI[3]) / 2\n",
    "c_lon = (AOI[0] + AOI[2]) / 2\n",
    "\n",
    "m = leafmap.Map(center=(c_lat, c_lon), zoom=6, height=\"700px\")\n",
    "m.add_basemap(\"Satellite\")\n",
    "m.add(\"NASA_OPERA\")\n",
    "m.add_gdf(gdf, layer_name=\"AOI\", style={\"color\": \"black\", \"weight\": 2, \"fillOpacity\": 0})\n",
    "\n",
    "m"
   ]
  },
  {
   "cell_type": "code",
   "execution_count": null,
   "id": "78e3ab90-dec7-41c7-a87c-fd8f2fcffd5a",
   "metadata": {},
   "outputs": [],
   "source": []
  }
 ],
 "metadata": {
  "kernelspec": {
   "display_name": "Python 3 (ipykernel)",
   "language": "python",
   "name": "python3"
  },
  "language_info": {
   "codemirror_mode": {
    "name": "ipython",
    "version": 3
   },
   "file_extension": ".py",
   "mimetype": "text/x-python",
   "name": "python",
   "nbconvert_exporter": "python",
   "pygments_lexer": "ipython3",
   "version": "3.12.2"
  }
 },
 "nbformat": 4,
 "nbformat_minor": 5
}
