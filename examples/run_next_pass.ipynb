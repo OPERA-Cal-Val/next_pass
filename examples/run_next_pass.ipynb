{
 "cells": [
  {
   "attachments": {},
   "cell_type": "markdown",
   "id": "924d71a0-75bd-44ff-9393-773f54cec7af",
   "metadata": {},
   "source": [
    "# next_pass: predicts satellite overpasses and retrieves available OPERA products \n",
    "\n",
    "## Background\n",
    "* Knowing the time of a satellite overpass (OP) at a precise location is crucial to plan and prepare disaster impact studies. \n",
    "The script below can be used to predict the overpasses of the Landsat 8 & 9 and Sentinel 1 & 2 satellites over a  selected location. For Landsat 8 this occurs every 16 days and for Sentinel 2A / 2B this occurs every 10 days.\n",
    "\n",
    "* The code calls the Python package 'next_pass' located at https://github.com/ehavazli/next_pass. The latter predicts the next overpass of the satellite of interest by scanning the relevant acquisition plans:\n",
    "\t- Landsat acquisition plans (json files) : https://landsat.usgs.gov/sites/default/files/landsat_acq/assets/json/cycles_full.json\n",
    "\t- Sentinel acquisition plans (KML files to import to Google Earth Pro) : https://sentinel.esa.int/web/sentinel/copernicus/sentinel-1/acquisition-plans\n",
    "      \n",
    "\n",
    "## Tool Description\n",
    "\n",
    "All what a user needs to provide is the precise location for which he desires to identify the next overpasses. The location can be input as a single point(latitude, longitude), or bounding box (SNEW coordinates) or a location file path (.kml). The script returns the next collect for Sentinel-1 and Sentinel-2 and the next passes, in ascending and descending directions separately, for Landsat-8 and Landsat-9.\n",
    "\n",
    "- Specify an Area of Interest (AOI) \n",
    "- Run find_next_overpass for Sentinel-1, Sentinel-2 and the Landsats (8&9) \n",
    "- Visualize each of the above predicted overpass\n",
    "- Retrieve the most recent available OPERA products at the selected AOI. \n",
    "\n",
    "The outputs of next_pass can be compared against overpasses of the site you are interested in using the ESA Orbital Prediction and Overpass Tool (OPOT) at https://evdc.esa.int/orbit/ \n"
   ]
  },
  {
   "cell_type": "markdown",
   "id": "3a463e75-447f-4aa9-99bc-3e5d977a59aa",
   "metadata": {},
   "source": [
    "## Getting started\n",
    "To run the overpass predictor with the given location, run all cells in the notebook starting with the \"Load packages\" cell."
   ]
  },
  {
   "cell_type": "markdown",
   "id": "b62dbae5-6831-4634-a722-74897b93cba3",
   "metadata": {},
   "source": [
    "### Load packages and functions"
   ]
  },
  {
   "cell_type": "code",
   "execution_count": null,
   "id": "ee013c33-33b6-49dd-a7b6-1936ef55e9bd",
   "metadata": {},
   "outputs": [],
   "source": [
    "import os\n",
    "import sys\n",
    "\n",
    "# Add the parent directory to Python's path\n",
    "parent_dir = os.path.abspath(os.path.join(os.getcwd(), '..'))\n",
    "if parent_dir not in sys.path:\n",
    "    sys.path.insert(0, parent_dir)\n",
    "    \n",
    "import colorsys\n",
    "import random\n",
    "import re\n",
    "from argparse import Namespace\n",
    "\n",
    "import folium\n",
    "import geopandas as gpd\n",
    "import leafmap\n",
    "import pandas as pd\n",
    "from dateutil.relativedelta import relativedelta\n",
    "import boto3\n",
    "from shapely.geometry import Point, Polygon, box\n",
    "\n",
    "import next_pass\n",
    "import utils"
   ]
  },
  {
   "cell_type": "code",
   "execution_count": null,
   "id": "0d2eedcf-c095-4572-87d3-eff8ed249209",
   "metadata": {},
   "outputs": [],
   "source": [
    "# Style function for the bounding box GeoJSON layer\n",
    "def style_function(feature):\n",
    "    return {\n",
    "        'fillColor': '#808080',  # Gray fill color\n",
    "        'color': '#000000',       # Black border color\n",
    "        'weight': 4,              # Thicker border (increased thickness)\n",
    "        'fillOpacity': 0.3        # Fill opacity (adjust if needed)\n",
    "    }\n",
    "# Function to generate random hex color\n",
    "def random_color():\n",
    "    return \"#{:02x}{:02x}{:02x}\".format(random.randint(0, 255), random.randint(0, 255), random.randint(0, 255))\n",
    "\n",
    "# Function to print text with color in console (ANSI escape code)\n",
    "def print_colored_text(text, color):\n",
    "    # Escape sequence for colored text\n",
    "    print(f\"\\033[38;2;{color[0]};{color[1]};{color[2]}m{text}\\033[39m\")\n",
    "\n",
    "# \n",
    "def hsl_distinct_colors(n):\n",
    "    colors = []\n",
    "    for i in range(n):\n",
    "        # Generate colors with different hues\n",
    "        hue = i / float(n)  # Hue ranges from 0 to 1\n",
    "        color = colorsys.hsv_to_rgb(hue, 1.0, 1.0)  # Convert HSL to RGB\n",
    "        # Convert from RGB (0-1) to hex (#RRGGBB)\n",
    "        rgb = [int(c * 255) for c in color]\n",
    "        hex_color = \"#{:02x}{:02x}{:02x}\".format(*rgb)\n",
    "        colors.append(hex_color)\n",
    "    return colors\n",
    "\n",
    "def spread_rgb_colors(n):\n",
    "    colors = []\n",
    "    step = 255 // n  # Divide the color space into n parts\n",
    "    for i in range(n):\n",
    "        # Spread out the color values across the RGB spectrum\n",
    "        r = (i * step) % 256\n",
    "        g = ((i + 1) * step) % 256\n",
    "        b = ((i + 2) * step) % 256\n",
    "        hex_color = \"#{:02x}{:02x}{:02x}\".format(r, g, b)\n",
    "        colors.append(hex_color)\n",
    "    return colors\n",
    "\n",
    "def hsl_distinct_colors_improved(num_colors):\n",
    "    colors = []\n",
    "    \n",
    "    for i in range(num_colors):\n",
    "        # Set Hue (H) to a random value, excluding extremes like 0° (red) and 60° (yellow)\n",
    "        hue = (i * 360 / num_colors) % 360\n",
    "        \n",
    "        # Set Saturation (S) to a high value (e.g., 70%) for vivid colors\n",
    "        saturation = random.randint(60, 80)  # Avoid dull colors\n",
    "        \n",
    "        # Set Lightness (L) to a lower value to avoid bright, light colors like yellow (range 30-50%)\n",
    "        lightness = random.randint(30, 50)  # Darker or neutral colors\n",
    "\n",
    "        # Convert HSL to RGB using the colorsys library\n",
    "        r, g, b = colorsys.hls_to_rgb(hue / 360, lightness / 100, saturation / 100)\n",
    "\n",
    "        # Convert RGB to hex format (RGB values are in [0, 1], so multiply by 255)\n",
    "        hex_color = \"#{:02x}{:02x}{:02x}\".format(int(r * 255), int(g * 255), int(b * 255))\n",
    "        colors.append(hex_color)\n",
    "    \n",
    "    return colors"
   ]
  },
  {
   "cell_type": "markdown",
   "id": "30c73e94-54be-4c2d-ab83-0b7fe432da99",
   "metadata": {},
   "source": [
    "# Specify location\n",
    "Start with selecting the location by  specifying the latitude/longitude (single point or bounding box) or pointing the script to the path of a location file (.kml). Please set location_file_path to '' if using the single point or boundng box options. "
   ]
  },
  {
   "cell_type": "code",
   "execution_count": null,
   "id": "5784914a-c997-4920-aaef-97ba570c2d4b",
   "metadata": {},
   "outputs": [],
   "source": [
    "# AOI coordinates\n",
    "lon_W, lat_S, lon_E, lat_N = (-54.215, -30.766,-50.814, -28.938)\n",
    "location_file_path ='examples/locations/MiltonHurricaneFlorida.kml' # Hurricane Milton location for this example"
   ]
  },
  {
   "cell_type": "markdown",
   "id": "4f7867f1-e025-43eb-8357-6d57681d93b7",
   "metadata": {},
   "source": [
    "### Specify satellites of interest \n",
    "For now, the tool operates for Sentinel 1A and 2A and Landsat 8 and 9."
   ]
  },
  {
   "cell_type": "code",
   "execution_count": null,
   "id": "10a15937-1d57-4772-8fff-eb277b23f8fe",
   "metadata": {},
   "outputs": [],
   "source": [
    "# Satellites\n",
    "sat1 = \"sentinel-1\"\n",
    "sat2 = \"sentinel-2\"\n",
    "sat3 = \"landsat\""
   ]
  },
  {
   "cell_type": "markdown",
   "id": "b2c7370e-cbfd-4eab-90ea-f2fe2a7d736c",
   "metadata": {},
   "source": [
    "### Run next_pass\n",
    "use next_pass to predict the overpasses of the above satellites over the selected location. The cells below will call next_pass to predict overpasses for the selected satellites, then provide overpasses vizualisation in an interactive map."
   ]
  },
  {
   "cell_type": "code",
   "execution_count": null,
   "id": "3380111f-70ce-4399-a0a2-7d3914fbc33a",
   "metadata": {},
   "outputs": [],
   "source": [
    "# Create the args object to pass to find_next_overpass\n",
    "args = Namespace(\n",
    "    bbox=(lat_S, lat_N, lon_W, lon_E),\n",
    "    aoi_file=location_file_path,  # assuming locationfile_path is defined\n",
    "    satellite=sat1  # assuming sat1 is defined (e.g., 'sentinel-1', 'sentinel-2', 'landsat')\n",
    ")"
   ]
  },
  {
   "cell_type": "code",
   "execution_count": null,
   "id": "75208e53-ee5c-434d-99ba-e23759121379",
   "metadata": {},
   "outputs": [],
   "source": [
    "print(\"*** \",sat1,\" ***\")\n",
    "result1 = next_pass.find_next_overpass(args)\n",
    "# result1 is a dictionary \n",
    "s1_next_collect_info = result1.get(\"next_collect_info\", \"No collection info available\")\n",
    "s1_next_collect_geometry = result1.get(\"next_collect_geometry\", None)\n",
    "print(s1_next_collect_info)"
   ]
  },
  {
   "cell_type": "code",
   "execution_count": null,
   "id": "2ab6c21e-598b-4f0e-b593-4d89ecf167b9",
   "metadata": {},
   "outputs": [],
   "source": [
    "print(\"*** \",sat2,\" ***\")\n",
    "args.satellite = sat2\n",
    "result2 = next_pass.find_next_overpass(args)\n",
    "s2_next_collect_info = result2.get(\"next_collect_info\", \"No collection info available\")\n",
    "s2_next_collect_geometry = result2.get(\"next_collect_geometry\", None)\n",
    "print(s2_next_collect_info)"
   ]
  },
  {
   "cell_type": "code",
   "execution_count": null,
   "id": "1597f45a-34e0-4026-9286-eaa4b6af52bd",
   "metadata": {
    "scrolled": true
   },
   "outputs": [],
   "source": [
    "print(\"*** \",sat3,\" ***\")\n",
    "args.satellite = sat3\n",
    "result3 = next_pass.find_next_overpass(args)"
   ]
  },
  {
   "cell_type": "markdown",
   "id": "e887dd39-d863-4606-9c53-ab02ed4b582c",
   "metadata": {},
   "source": [
    "### Overpasses Vizualisation  \n",
    "The below vizualization tool shows the path of a selected satellite at the predicted date/time"
   ]
  },
  {
   "cell_type": "code",
   "execution_count": null,
   "id": "315d8f13-2f11-4110-a315-e7766ffa2b33",
   "metadata": {},
   "outputs": [],
   "source": [
    "# Start by choosing what satellite to visualize \n",
    "sat_to_visualize = 'Sentinel-1'; # can be Sentinel-1 or Sentinel-2\n",
    "\n",
    "if location_file_path:\n",
    "    area_polygon = utils.create_polygon_from_kml(location_file_path)\n",
    "    # Convert to a GeoDataFrame\n",
    "    gdf = gpd.GeoDataFrame({'geometry': [area_polygon]}, crs=\"EPSG:4326\")  # WGS 84 CRS\n",
    "    # Create a Folium map centered at the bounding box centroid\n",
    "    m = folium.Map(location=[area_polygon.centroid.y, area_polygon.centroid.x], zoom_start=4)\n",
    "    # Add the bounding box as a GeoJSON layer\n",
    "    folium.GeoJson(gdf.to_json(), name=\"Area of interest\", style_function=style_function).add_to(m)\n",
    "elif lat_S == lat_N and lon_W == lon_E:\n",
    "    # Create the point\n",
    "    point = Point(lon_E, lat_N)\n",
    "\n",
    "    # Create a Folium map centered at the point location\n",
    "    m = folium.Map(location=[point.y, point.x], zoom_start=4)\n",
    "\n",
    "    # Add a cross-shaped marker to the map\n",
    "    folium.Marker(\n",
    "        location=[point.y, point.x],  # Latitude, Longitude\n",
    "        icon=folium.Icon(icon='glyphicon-remove', icon_color='red', prefix='glyphicon')  # Cross symbol with red color\n",
    "    ).add_to(m)\n",
    "else:\n",
    "    # Create the bounding box as a polygon\n",
    "    bounding_box = box(lon_W, lat_S, lon_E, lat_N)\n",
    "\n",
    "    # Convert to a GeoDataFrame\n",
    "    gdf = gpd.GeoDataFrame({'geometry': [bounding_box]}, crs=\"EPSG:4326\")  # WGS 84 CRS\n",
    "\n",
    "    # Create a Folium map centered at the bounding box centroid\n",
    "    m = folium.Map(location=[bounding_box.centroid.y, bounding_box.centroid.x], zoom_start=4)\n",
    "    # Add the bounding box as a GeoJSON layer\n",
    "    folium.GeoJson(gdf.to_json(), name=\"Bounding Box\", style_function=style_function).add_to(m)\n",
    "\n",
    "if sat_to_visualize == 'Sentinel-1':\n",
    "    vi_next_collect_info = s1_next_collect_info\n",
    "    vi_next_collect_geometry = s1_next_collect_geometry\n",
    "elif sat_to_visualize == 'Sentinel-2':\n",
    "    vi_next_collect_info = s2_next_collect_info\n",
    "    vi_next_collect_geometry = s2_next_collect_geometry\n",
    "else:\n",
    "    vi_next_collect_info = l8_next_collect_info\n",
    "    vi_next_collect_geometry = l8_next_collect_geometry\n",
    "        \n",
    "print('\\n ** Visualizing overpasses for ',sat_to_visualize,' ** \\n')\n",
    "# Add each Polygon in next_collect_geometry\n",
    "lines = vi_next_collect_info.split(\"\\n\")\n",
    "# Clean lines by keeping only those that contain numbers (1-9)\n",
    "cleaned_info = [line for line in lines if re.search(r'[1-9]', line)]  # Line must contain digits (1-9)\n",
    "vi_next_collect_info_list = cleaned_info  # Now it's a list of strings (one per row in the table)\n",
    "num_polygons = len(vi_next_collect_geometry)\n",
    "num_info_lines = len(vi_next_collect_info_list)\n",
    "\n",
    "# Use the HSL distinct colors function\n",
    "distinct_colors_list_1 = spread_rgb_colors(num_polygons)\n",
    "distinct_colors_list_2 = hsl_distinct_colors(num_polygons)\n",
    "distinct_colors_list_3 = hsl_distinct_colors_improved(num_polygons)\n",
    "\n",
    "if vi_next_collect_geometry:\n",
    "    for i, (polygon, info) in enumerate(zip(vi_next_collect_geometry, vi_next_collect_info_list), start=1):    \n",
    "        if isinstance(polygon, Polygon):  # Ensure it's a valid Polygon\n",
    "            # Get a distinct color for each polygon\n",
    "            color = distinct_colors_list_3[i - 1]\n",
    "    \n",
    "            # Print the info with corresponding color in the console\n",
    "            print_colored_text(f\"{info}\", tuple(int(color[i:i+2], 16) for i in (1, 3, 5)))\n",
    "    \n",
    "            \n",
    "            geojson_data = gpd.GeoSeries([polygon]).__geo_interface__\n",
    "            folium.GeoJson(\n",
    "                geojson_data, \n",
    "                name=\"Next Collect Area\",\n",
    "                style_function=lambda x, color=color: {\"color\": color, \"weight\": 2, \"fillOpacity\": 0.3},\n",
    "                popup=folium.Popup(f\"Polygon: {info}\", max_width=300)  # Display corresponding info line\n",
    "            ).add_to(m)\n",
    "\n",
    "print('')\n",
    "# Display the map and save to file\n",
    "m.save(sat_to_visualize+\"_Next_Overpasses.html\")\n",
    "m"
   ]
  },
  {
   "cell_type": "markdown",
   "id": "c6f2e25f-9536-499e-a60e-c9bcac90b800",
   "metadata": {},
   "source": [
    "# Available OPERA Products\n",
    "\n",
    "## Description\n",
    "* Here we will use Leafmap and Earthaccess to explore OPERA DSWx Products.\n",
    "* The Leafmap library provides a suite of tools for interactive mapping and visualization in Jupyter Notebooks. Leafmap version 0.30.0 and later offers tools specifically for accessing NASA Earthdata by building on the newly developed NASA Earthaccess library. Earthaccess provides streamlined access to NASA Earthdata and simplifies the authentication and querying process over previously developed approaches. \n",
    "* This section is designed to leverage tools within Earthaccess and Leafmap to facilitate easier access and visualization of OPERA data products for a user-specified area of interest (AOI). \n",
    "\n",
    "## OPERA DSWx Products \n",
    "\n",
    "The Dynamic Surface Water eXtent (DSWx) products map pixel-wise surface water detections using optical or SAR imagery. The DSWx suite is composed of complementary products, which are named according to their input datasets. In the present section, we will focus on: \n",
    "\n",
    "- DSWx from Harmonized Landsat Sentinel-2 (DSWx-HLS)\n",
    "- DSWx from Sentinel-1 (DSWx-S1)\n"
   ]
  },
  {
   "cell_type": "markdown",
   "id": "25921323-a971-4ac5-812d-a7282252bad8",
   "metadata": {},
   "source": [
    "## View the available OPERA products\n",
    "Note above that the `earthdata_df` contains a number of columns with metadata about each available product. the `ShortName` column will be used to produce a new dataframe containing only OPERA products. Let's view the available products and their metadata."
   ]
  },
  {
   "cell_type": "code",
   "execution_count": null,
   "id": "0b64b90d-cb2d-40ae-b8a0-2d8925e11986",
   "metadata": {},
   "outputs": [],
   "source": [
    "### View Earthdata datasets\n",
    "earthdata_url = 'https://github.com/opengeos/NASA-Earth-Data/raw/main/nasa_earth_data.tsv'\n",
    "earthdata_df = pd.read_csv(earthdata_url, sep='\\t')\n",
    "opera_df = earthdata_df[earthdata_df['ShortName'].str.contains('OPERA', case=False)]\n",
    "### Print the available OPERA datasets \n",
    "print('Available OPERA datasets:', opera_df['ShortName'].values)"
   ]
  },
  {
   "cell_type": "code",
   "execution_count": null,
   "id": "4ad6a84c-8bc3-42fd-91e8-8b361036bf1d",
   "metadata": {},
   "outputs": [],
   "source": [
    "### OPERA datasets of interest \n",
    "opera_datasets = ['OPERA_L3_DSWX-HLS_V1', 'OPERA_L3_DSWX-S1_V1', 'OPERA_L3_DIST-ALERT-HLS_V1', 'OPERA_L3_DIST-ANN-HLS_V1',\n",
    "                  'OPERA_L2_RTC-S1_V1', 'OPERA_L2_CSLC-S1_V1', 'OPERA_L3_DISP-S1_V1']"
   ]
  },
  {
   "cell_type": "markdown",
   "id": "8bfc2314-500c-4e70-b628-86037f651da3",
   "metadata": {},
   "source": [
    "## Display most recent OPERA products at the selected Area of Interest (AOI)\n",
    "* The script will use the area of interest indicated above (to predict overpasses) to retreive the five most recent OPERA products at the time the present notebook is run."
   ]
  },
  {
   "cell_type": "code",
   "execution_count": null,
   "id": "68469ff5-e17c-4546-bbd4-7666947bd650",
   "metadata": {},
   "outputs": [],
   "source": [
    "### This cell initializes the AOI.\n",
    "if location_file_path:\n",
    "    AOI = area_polygon.bounds\n",
    "else:\n",
    "    # Create the bounding box as a polygon\n",
    "    AOI = (lon_W, lat_S,lon_E, lat_N)\n",
    "print(AOI)\n",
    "c_lat = (AOI[1] + AOI[3]) / 2  # (miny + maxy) / 2\n",
    "c_lon = (AOI[0] + AOI[2]) / 2  # (minx + maxx) / 2"
   ]
  },
  {
   "cell_type": "code",
   "execution_count": null,
   "id": "5eeaf456-56bc-411b-ab68-a7a65473d179",
   "metadata": {},
   "outputs": [],
   "source": [
    "# define pre and Syn event dates in the last month\n",
    "from datetime import date\n",
    "today = date.today()\n",
    "one_year_ago = date.today() - relativedelta(months=12)\n",
    "StartDate_Recent = one_year_ago.strftime(\"%Y-%m-%d\") + \"T00:00:00\"  \n",
    "EndDate_Recent = today.strftime(\"%Y-%m-%d\") + \"T23:59:59\" \n",
    "print(StartDate_Recent)\n",
    "print(EndDate_Recent)"
   ]
  },
  {
   "cell_type": "code",
   "execution_count": null,
   "id": "02d0be0c-8fbc-477d-989d-0d53e787c54c",
   "metadata": {},
   "outputs": [],
   "source": [
    "\n",
    "# Dictionary to store results\n",
    "results_dict = {}\n",
    "\n",
    "# Iterate through each dataset\n",
    "for dataset in opera_datasets:\n",
    "    print(f\"🔍 Searching {dataset}...\")\n",
    "\n",
    "    try:\n",
    "        results, gdf = leafmap.nasa_data_search(\n",
    "            short_name=dataset,\n",
    "            cloud_hosted=True,\n",
    "            bounding_box=AOI,\n",
    "            temporal=(StartDate_Recent, EndDate_Recent),\n",
    "            #count=-1,\n",
    "            return_gdf=True,\n",
    "        )\n",
    "        gdf=gdf[-5:]\n",
    "        print(f\"✅ Success: {dataset} → {len(gdf)} granules found.\")\n",
    "        results_dict[dataset] = {\n",
    "            \"results\": results,\n",
    "            \"gdf\": gdf,\n",
    "        }\n",
    "    except Exception as e:\n",
    "        print(f\"❌ Error fetching {dataset}\")\n"
   ]
  },
  {
   "cell_type": "code",
   "execution_count": null,
   "id": "3e95235e-6617-4e0c-ab69-169e8cb6a716",
   "metadata": {},
   "outputs": [],
   "source": [
    "m = leafmap.Map(center=(c_lat, c_lon), zoom=7)\n",
    "m.add_basemap(\"Satellite\")\n",
    "\n",
    "num_items = len(results_dict.items())\n",
    "distinct_colors_list_items = hsl_distinct_colors_improved(num_items)\n",
    "\n",
    "for i, (dataset, data) in enumerate(results_dict.items()):\n",
    "    color = distinct_colors_list_items[i - 1]\n",
    "    if not data[\"gdf\"].empty:\n",
    "        print_colored_text(f\"{dataset}\", tuple(int(color[i:i+2], 16) for i in (1, 3, 5)))\n",
    "        style = {\"color\": color, \"fillColor\": color, \"weight\": 2, \"fillOpacity\": 0.5}\n",
    "        m.add_gdf(data[\"gdf\"], layer_name=dataset, style=style)\n",
    "\n",
    "m"
   ]
  },
  {
   "cell_type": "markdown",
   "id": "81023adb-5ed5-4980-b710-a6356c9a08b0",
   "metadata": {},
   "source": [
    "*******************************************************************"
   ]
  },
  {
   "cell_type": "markdown",
   "id": "00d2c1f7-0b35-4ad7-9c8a-9276a2341821",
   "metadata": {},
   "source": [
    "## Searching and Visualizing NASA OPERA Data Products Interactively \n",
    "* Another option is available through an Earthdata login. You can register for an account at urs.earthdata.nasa.gov. \n",
    "* For further information please refer to https://leafmap.org/notebooks/101_nasa_opera/\n",
    "* Run the Jupyter Notebook until this cell, before using the option below"
   ]
  },
  {
   "cell_type": "code",
   "execution_count": null,
   "id": "a00c1c42-7c18-4464-9f64-d4793bf01ef6",
   "metadata": {},
   "outputs": [],
   "source": [
    "leafmap.nasa_data_login()"
   ]
  },
  {
   "cell_type": "markdown",
   "id": "42e9201b-8175-4cb8-a269-be535b492596",
   "metadata": {},
   "source": [
    "The map is zoomed in on the defined AOI. Select a dataset from the Short Name dropdown list. Click the \"Search\" button to load the available datasets for the region. The footprints of the datasets will be displayed on the map. Click on a footprint to display the metadata of the dataset."
   ]
  },
  {
   "cell_type": "code",
   "execution_count": null,
   "id": "f0f50e1a-9ce3-43e8-b1a5-9de7381c1816",
   "metadata": {},
   "outputs": [],
   "source": [
    "m = leafmap.Map(center=(c_lat, c_lon), zoom=8, height=\"700px\")\n",
    "m.add_basemap(\"Satellite\")\n",
    "m.add(\"NASA_OPERA\")\n",
    "m"
   ]
  },
  {
   "cell_type": "markdown",
   "id": "7510fd0b-94ba-4361-a6fa-cad1736582c3",
   "metadata": {},
   "source": [
    "The footprints of the datasets can be accessed as a GeoPandas GeoDataFrame:"
   ]
  }
 ],
 "metadata": {
  "kernelspec": {
   "display_name": "Python 3 (ipykernel)",
   "language": "python",
   "name": "python3"
  },
  "language_info": {
   "codemirror_mode": {
    "name": "ipython",
    "version": 3
   },
   "file_extension": ".py",
   "mimetype": "text/x-python",
   "name": "python",
   "nbconvert_exporter": "python",
   "pygments_lexer": "ipython3",
   "version": "3.12.7"
  }
 },
 "nbformat": 4,
 "nbformat_minor": 5
}
